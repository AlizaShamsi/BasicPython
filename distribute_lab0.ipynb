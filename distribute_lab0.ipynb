{
  "nbformat": 4,
  "nbformat_minor": 0,
  "metadata": {
    "kernelspec": {
      "display_name": "Python 3",
      "language": "python",
      "name": "python3"
    },
    "language_info": {
      "codemirror_mode": {
        "name": "ipython",
        "version": 3
      },
      "file_extension": ".py",
      "mimetype": "text/x-python",
      "name": "python",
      "nbconvert_exporter": "python",
      "pygments_lexer": "ipython3",
      "version": "3.7.6"
    },
    "colab": {
      "name": "distribute_lab0.ipynb",
      "provenance": [],
      "include_colab_link": true
    }
  },
  "cells": [
    {
      "cell_type": "markdown",
      "metadata": {
        "id": "view-in-github",
        "colab_type": "text"
      },
      "source": [
        "<a href=\"https://colab.research.google.com/github/AlizaShamsi/BasicPython/blob/main/distribute_lab0.ipynb\" target=\"_parent\"><img src=\"https://colab.research.google.com/assets/colab-badge.svg\" alt=\"Open In Colab\"/></a>"
      ]
    },
    {
      "cell_type": "markdown",
      "metadata": {
        "id": "tBW7D5bfdHlC"
      },
      "source": [
        "# Lab 0: Basic Python, Functions, Lists, Strings, and Files"
      ]
    },
    {
      "cell_type": "markdown",
      "metadata": {
        "id": "NrzmeT7EcAZB"
      },
      "source": [
        "## EXERCISE 1: A Simple Calculator\n",
        "\n",
        "Here is a fun little calculator which exercises what you have learnt so far.\n",
        "\n",
        "It has only 4 operations - Addition, Subtraction, Multiplication and Divison\n",
        "\n",
        "Notice the use of no-operation `pass`. It allows us to incrementally code by doing nothing to start, and put in functionality over time."
      ]
    },
    {
      "cell_type": "code",
      "metadata": {
        "id": "0RRbh6KedHlQ",
        "outputId": "1e31354e-3ca9-45df-a47d-dd9b4b1143eb",
        "colab": {
          "base_uri": "https://localhost:8080/"
        }
      },
      "source": [
        "print(\"Select operation\\n\")\n",
        "print(\"1.Addition\")\n",
        "print(\"2.Subtraction\")\n",
        "print(\"3.Multiplication\")\n",
        "print(\"4.Division\")\n",
        " \n",
        "# Something NEW: Take input from the user \n",
        "choice = input(\"\\nEnter choice(1/2/3/4): \")\n",
        " \n",
        "# We convert the input to a floating-pount(or real) number.\n",
        " \n",
        "num1 = float(input(\"\\nEnter first number: \"))\n",
        "num2 = float(input(\"\\nEnter second number: \"))\n",
        " \n",
        "if choice == '1':\n",
        "    # your code here\n",
        "  sum=num1+num2\n",
        "  print(sum)\n",
        "elif choice== '2':\n",
        "  diff=num1-num2\n",
        "  print(diff)\n",
        "elif choice== '3':\n",
        "  prod=num1*num2\n",
        "  print(prod)\n",
        "elif choice== '4':\n",
        "  quo=num1/num2\n",
        "  print(quo)\n",
        "else:\n",
        "  print ('Invalid choice')"
      ],
      "execution_count": 9,
      "outputs": [
        {
          "output_type": "stream",
          "text": [
            "Select operation\n",
            "\n",
            "1.Addition\n",
            "2.Subtraction\n",
            "3.Multiplication\n",
            "4.Division\n",
            "\n",
            "Enter choice(1/2/3/4): 4\n",
            "\n",
            "Enter first number: 25\n",
            "\n",
            "Enter second number: 12\n",
            "2.0833333333333335\n"
          ],
          "name": "stdout"
        }
      ]
    },
    {
      "cell_type": "markdown",
      "metadata": {
        "id": "eo1zRFvydHlS"
      },
      "source": [
        "## EXERCISE 2: List like objects and functions on them\n",
        "\n",
        "Materialize lists using \n",
        "\n",
        "1. `range(50)`\n",
        "2. The function application `enumerate(list of alphabets)`\n",
        "3. Write your own enumerate function for a list using the function `zip`."
      ]
    },
    {
      "cell_type": "code",
      "metadata": {
        "id": "5zyjCSJEdHlS",
        "outputId": "c1fd2495-efe4-4e85-ccc7-759827fa2844",
        "colab": {
          "base_uri": "https://localhost:8080/"
        }
      },
      "source": [
        "# your code here\n",
        "list(range(1,50))"
      ],
      "execution_count": 2,
      "outputs": [
        {
          "output_type": "execute_result",
          "data": {
            "text/plain": [
              "[1,\n",
              " 2,\n",
              " 3,\n",
              " 4,\n",
              " 5,\n",
              " 6,\n",
              " 7,\n",
              " 8,\n",
              " 9,\n",
              " 10,\n",
              " 11,\n",
              " 12,\n",
              " 13,\n",
              " 14,\n",
              " 15,\n",
              " 16,\n",
              " 17,\n",
              " 18,\n",
              " 19,\n",
              " 20,\n",
              " 21,\n",
              " 22,\n",
              " 23,\n",
              " 24,\n",
              " 25,\n",
              " 26,\n",
              " 27,\n",
              " 28,\n",
              " 29,\n",
              " 30,\n",
              " 31,\n",
              " 32,\n",
              " 33,\n",
              " 34,\n",
              " 35,\n",
              " 36,\n",
              " 37,\n",
              " 38,\n",
              " 39,\n",
              " 40,\n",
              " 41,\n",
              " 42,\n",
              " 43,\n",
              " 44,\n",
              " 45,\n",
              " 46,\n",
              " 47,\n",
              " 48,\n",
              " 49]"
            ]
          },
          "metadata": {
            "tags": []
          },
          "execution_count": 2
        }
      ]
    },
    {
      "cell_type": "code",
      "metadata": {
        "id": "LxgdbpDUdHlT",
        "outputId": "2392b3f3-111e-47c4-e26f-0dc5dbb5ba93",
        "colab": {
          "base_uri": "https://localhost:8080/"
        }
      },
      "source": [
        "# your code here\n",
        "list(enumerate(\"Aliza Shamsi\"))"
      ],
      "execution_count": 4,
      "outputs": [
        {
          "output_type": "execute_result",
          "data": {
            "text/plain": [
              "[(0, 'A'),\n",
              " (1, 'l'),\n",
              " (2, 'i'),\n",
              " (3, 'z'),\n",
              " (4, 'a'),\n",
              " (5, ' '),\n",
              " (6, 'S'),\n",
              " (7, 'h'),\n",
              " (8, 'a'),\n",
              " (9, 'm'),\n",
              " (10, 's'),\n",
              " (11, 'i')]"
            ]
          },
          "metadata": {
            "tags": []
          },
          "execution_count": 4
        }
      ]
    },
    {
      "cell_type": "code",
      "metadata": {
        "id": "_q620CkMdHlU",
        "outputId": "15ed92ad-dd0d-4071-9c76-d592dbade18e",
        "colab": {
          "base_uri": "https://localhost:8080/"
        }
      },
      "source": [
        "# your code here\n",
        "list(zip(\"Aliza Shamsi\"))"
      ],
      "execution_count": 5,
      "outputs": [
        {
          "output_type": "execute_result",
          "data": {
            "text/plain": [
              "[('A',),\n",
              " ('l',),\n",
              " ('i',),\n",
              " ('z',),\n",
              " ('a',),\n",
              " (' ',),\n",
              " ('S',),\n",
              " ('h',),\n",
              " ('a',),\n",
              " ('m',),\n",
              " ('s',),\n",
              " ('i',)]"
            ]
          },
          "metadata": {
            "tags": []
          },
          "execution_count": 5
        }
      ]
    },
    {
      "cell_type": "markdown",
      "metadata": {
        "id": "rUe6oWVsvj12"
      },
      "source": [
        "## EXERCISE 3: Count the special characters\n",
        "\n",
        "Consider the string \"HelloWorld,123,ThisIsUniv.Ai\" (not including the quotes). Find the number of uppercase, lowercase, special character and numerical characters.\n"
      ]
    },
    {
      "cell_type": "code",
      "metadata": {
        "id": "nM6JM1YqdHlV",
        "outputId": "fa4e0ba1-a6ae-421f-dc2b-a15a745532cf",
        "colab": {
          "base_uri": "https://localhost:8080/"
        }
      },
      "source": [
        "from collections import Counter\n",
        "import string\n",
        "my= \"HelloWorld,123,ThisIsUniv.Ai\"\n",
        "c1=c2=c3=c4=0\n",
        "for i in my:\n",
        " if i in string.ascii_uppercase:\n",
        "  c1+=1\n",
        " if i in string.ascii_lowercase:\n",
        "  c2+=1\n",
        " if i in string.digits:\n",
        "  c3+=1\n",
        " if i in string.punctuation:\n",
        "  c4+=1\n",
        "print(\"uppercase\",c1)\n",
        "print(\"lowercase\",c2)\n",
        "print(\"digits\",c3)\n",
        "print(\"characters\",c4)"
      ],
      "execution_count": 46,
      "outputs": [
        {
          "output_type": "stream",
          "text": [
            "uppercase 6\n",
            "lowercase 16\n",
            "digits 3\n",
            "characters 3\n"
          ],
          "name": "stdout"
        }
      ]
    },
    {
      "cell_type": "code",
      "metadata": {
        "id": "8EojuIUniy3v"
      },
      "source": [
        ""
      ],
      "execution_count": null,
      "outputs": []
    },
    {
      "cell_type": "code",
      "metadata": {
        "id": "EKfRPws7dHlV",
        "outputId": "2f6262e6-3785-41b4-9d03-98acd4ee9fa7",
        "colab": {
          "base_uri": "https://localhost:8080/",
          "height": 376
        }
      },
      "source": [
        ""
      ],
      "execution_count": 10,
      "outputs": [
        {
          "output_type": "error",
          "ename": "NameError",
          "evalue": "ignored",
          "traceback": [
            "\u001b[0;31m---------------------------------------------------------------------------\u001b[0m",
            "\u001b[0;31mNameError\u001b[0m                                 Traceback (most recent call last)",
            "\u001b[0;32m<ipython-input-10-65e14e09cdc0>\u001b[0m in \u001b[0;36m<module>\u001b[0;34m()\u001b[0m\n\u001b[0;32m----> 1\u001b[0;31m \u001b[0mcounter\u001b[0m\u001b[0;34m(\u001b[0m\u001b[0mstring\u001b[0m\u001b[0;34m.\u001b[0m\u001b[0mascii_uppercase\u001b[0m\u001b[0;34m,\u001b[0m \u001b[0mmy_string\u001b[0m\u001b[0;34m)\u001b[0m\u001b[0;34m,\u001b[0m\u001b[0mcounter\u001b[0m\u001b[0;34m(\u001b[0m\u001b[0mstring\u001b[0m\u001b[0;34m.\u001b[0m\u001b[0mascii_lowercase\u001b[0m\u001b[0;34m,\u001b[0m \u001b[0mmy_string\u001b[0m\u001b[0;34m)\u001b[0m\u001b[0;34m,\u001b[0m\u001b[0mcounter\u001b[0m\u001b[0;34m(\u001b[0m\u001b[0mstring\u001b[0m\u001b[0;34m.\u001b[0m\u001b[0mdigits\u001b[0m\u001b[0;34m,\u001b[0m \u001b[0mmy_string\u001b[0m\u001b[0;34m)\u001b[0m\u001b[0;34m,\u001b[0m\u001b[0mcounter\u001b[0m\u001b[0;34m(\u001b[0m\u001b[0mstring\u001b[0m\u001b[0;34m.\u001b[0m\u001b[0mpunctuation\u001b[0m\u001b[0;34m,\u001b[0m \u001b[0mmy_string\u001b[0m\u001b[0;34m)\u001b[0m\u001b[0;34m\u001b[0m\u001b[0;34m\u001b[0m\u001b[0m\n\u001b[0m",
            "\u001b[0;31mNameError\u001b[0m: name 'counter' is not defined"
          ]
        }
      ]
    },
    {
      "cell_type": "markdown",
      "metadata": {
        "id": "EbB1iRo6dHlW"
      },
      "source": [
        "## EXERCISE 4: Read a file and parse words from it\n",
        "\n",
        "Read Julius Caesar. Get each line. Remove newline characters from each line. Split the line to get the words from the line. Lowercase them. Print the first 1000 words, lowercased."
      ]
    },
    {
      "cell_type": "code",
      "metadata": {
        "id": "jAutUYKLdHlW"
      },
      "source": [
        "# your code here"
      ],
      "execution_count": 14,
      "outputs": []
    },
    {
      "cell_type": "code",
      "metadata": {
        "id": "YVrVOXm_dHlX",
        "outputId": "133730e1-4888-4472-a9f3-fc68a28d3c78",
        "colab": {
          "base_uri": "https://localhost:8080/"
        }
      },
      "source": [
        "! wget https://raw.githubusercontent.com/AlizaShamsi/BasicPython/main/data/Julius%20Caesar.txt"
      ],
      "execution_count": 15,
      "outputs": [
        {
          "output_type": "stream",
          "text": [
            "--2020-12-19 05:50:00--  https://raw.githubusercontent.com/AlizaShamsi/BasicPython/main/data/Julius%20Caesar.txt\n",
            "Resolving raw.githubusercontent.com (raw.githubusercontent.com)... 151.101.0.133, 151.101.64.133, 151.101.128.133, ...\n",
            "Connecting to raw.githubusercontent.com (raw.githubusercontent.com)|151.101.0.133|:443... connected.\n",
            "HTTP request sent, awaiting response... 200 OK\n",
            "Length: 120873 (118K) [text/plain]\n",
            "Saving to: ‘Julius Caesar.txt’\n",
            "\n",
            "Julius Caesar.txt   100%[===================>] 118.04K  --.-KB/s    in 0.01s   \n",
            "\n",
            "2020-12-19 05:50:00 (8.05 MB/s) - ‘Julius Caesar.txt’ saved [120873/120873]\n",
            "\n"
          ],
          "name": "stdout"
        }
      ]
    },
    {
      "cell_type": "code",
      "metadata": {
        "id": "Vpna8GoUjnqh",
        "outputId": "864c3be2-e9ef-409f-9296-1266591b61f4",
        "colab": {
          "base_uri": "https://localhost:8080/"
        }
      },
      "source": [
        "wlist=[]\n",
        "fd=open('Julius Caesar.txt')\n",
        "for line in fd:\n",
        "  line=line.strip()\n",
        "  words=line.split()\n",
        "  low=[word.lower() for word in words]\n",
        "  for word in words:\n",
        "   wlist.append(word)\n",
        "print(wlist[0:1000])"
      ],
      "execution_count": 33,
      "outputs": [
        {
          "output_type": "stream",
          "text": [
            "['THE', 'TRAGEDY', 'OF', 'JULIUS', 'CAESAR', 'by', 'William', 'Shakespeare', 'Contents', 'ACT', 'I', 'Scene', 'I.', 'Rome.', 'A', 'street.', 'Scene', 'II.', 'The', 'same.', 'A', 'public', 'place.', 'Scene', 'III.', 'The', 'same.', 'A', 'street.', 'ACT', 'II', 'Scene', 'I.', 'Rome.', 'Brutusâ€™', 'orchard.', 'Scene', 'II.', 'A', 'room', 'in', 'Caesarâ€™s', 'palace.', 'Scene', 'III.', 'A', 'street', 'near', 'the', 'Capitol.', 'Scene', 'IV.', 'Another', 'part', 'of', 'the', 'same', 'street,', 'before', 'the', 'house', 'of', 'Brutus.', 'ACT', 'III', 'Scene', 'I.', 'Rome.', 'Before', 'the', 'Capitol;', 'the', 'Senate', 'sitting.', 'Scene', 'II.', 'The', 'same.', 'The', 'Forum.', 'Scene', 'III.', 'The', 'same.', 'A', 'street.', 'ACT', 'IV', 'Scene', 'I.', 'A', 'room', 'in', 'Antonyâ€™s', 'house.', 'Scene', 'II.', 'Before', 'Brutusâ€™', 'tent,', 'in', 'the', 'camp', 'near', 'Sardis.', 'Scene', 'III.', 'Within', 'the', 'tent', 'of', 'Brutus.', 'ACT', 'V', 'Scene', 'I.', 'The', 'plains', 'of', 'Philippi.', 'Scene', 'II.', 'The', 'same.', 'The', 'field', 'of', 'battle.', 'Scene', 'III.', 'Another', 'part', 'of', 'the', 'field.', 'Scene', 'IV.', 'Another', 'part', 'of', 'the', 'field.', 'Scene', 'V.', 'Another', 'part', 'of', 'the', 'field.', 'Dramatis', 'PersonÃ¦', 'JULIUS', 'CAESAR', 'OCTAVIUS', 'CAESAR,', 'Triumvir', 'after', 'his', 'death.', 'MARCUS', 'ANTONIUS,', 'â€\\x9d', 'â€\\x9d', 'â€\\x9d', 'M.', 'AEMILIUS', 'LEPIDUS,', 'â€\\x9d', 'â€\\x9d', 'â€\\x9d', 'CICERO,', 'PUBLIUS,', 'POPILIUS', 'LENA,', 'Senators.', 'MARCUS', 'BRUTUS,', 'Conspirator', 'against', 'Caesar.', 'CASSIUS,', 'â€\\x9d', 'â€\\x9d', 'â€\\x9d', 'CASCA,', 'â€\\x9d', 'â€\\x9d', 'â€\\x9d', 'TREBONIUS,', 'â€\\x9d', 'â€\\x9d', 'â€\\x9d', 'LIGARIUS,â€\\x9d', 'â€\\x9d', 'â€\\x9d', 'DECIUS', 'BRUTUS,', 'â€\\x9d', 'â€\\x9d', 'â€\\x9d', 'METELLUS', 'CIMBER,', 'â€\\x9d', 'â€\\x9d', 'â€\\x9d', 'CINNA,', 'â€\\x9d', 'â€\\x9d', 'â€\\x9d', 'FLAVIUS,', 'tribune', 'MARULLUS,', 'tribune', 'ARTEMIDORUS,', 'a', 'Sophist', 'of', 'Cnidos.', 'A', 'Soothsayer', 'CINNA,', 'a', 'poet.', 'Another', 'Poet.', 'LUCILIUS,', 'TITINIUS,', 'MESSALA,', 'young', 'CATO,', 'and', 'VOLUMNIUS,', 'Friends', 'to', 'Brutus', 'and', 'Cassius.', 'VARRO,', 'CLITUS,', 'CLAUDIUS,', 'STRATO,', 'LUCIUS,', 'DARDANIUS,', 'Servants', 'to', 'Brutus', 'PINDARUS,', 'Servant', 'to', 'Cassius', 'CALPHURNIA,', 'wife', 'to', 'Caesar', 'PORTIA,', 'wife', 'to', 'Brutus', 'The', 'Ghost', 'of', 'Caesar', 'Senators,', 'Citizens,', 'Soldiers,', 'Commoners,', 'Messengers,', 'and', 'Servants.', 'SCENE:', 'Rome,', 'the', 'conspiratorsâ€™', 'camp', 'near', 'Sardis,', 'and', 'the', 'plains', 'of', 'Philippi.', 'ACT', 'I', 'SCENE', 'I.', 'Rome.', 'A', 'street.', 'Enter', 'Flavius,', 'Marullus', 'and', 'a', 'throng', 'of', 'Citizens.', 'FLAVIUS.', 'Hence!', 'home,', 'you', 'idle', 'creatures,', 'get', 'you', 'home.', 'Is', 'this', 'a', 'holiday?', 'What,', 'know', 'you', 'not,', 'Being', 'mechanical,', 'you', 'ought', 'not', 'walk', 'Upon', 'a', 'labouring', 'day', 'without', 'the', 'sign', 'Of', 'your', 'profession?', 'Speak,', 'what', 'trade', 'art', 'thou?', 'CARPENTER.', 'Why,', 'sir,', 'a', 'carpenter.', 'MARULLUS.', 'Where', 'is', 'thy', 'leather', 'apron', 'and', 'thy', 'rule?', 'What', 'dost', 'thou', 'with', 'thy', 'best', 'apparel', 'on?', 'You,', 'sir,', 'what', 'trade', 'are', 'you?', 'COBBLER.', 'Truly,', 'sir,', 'in', 'respect', 'of', 'a', 'fine', 'workman,', 'I', 'am', 'but,', 'as', 'you', 'would', 'say,', 'a', 'cobbler.', 'MARULLUS.', 'But', 'what', 'trade', 'art', 'thou?', 'Answer', 'me', 'directly.', 'COBBLER.', 'A', 'trade,', 'sir,', 'that', 'I', 'hope', 'I', 'may', 'use', 'with', 'a', 'safe', 'conscience,', 'which', 'is', 'indeed,', 'sir,', 'a', 'mender', 'of', 'bad', 'soles.', 'MARULLUS.', 'What', 'trade,', 'thou', 'knave?', 'Thou', 'naughty', 'knave,', 'what', 'trade?', 'COBBLER.', 'Nay,', 'I', 'beseech', 'you,', 'sir,', 'be', 'not', 'out', 'with', 'me;', 'yet,', 'if', 'you', 'be', 'out,', 'sir,', 'I', 'can', 'mend', 'you.', 'MARULLUS.', 'What', 'meanâ€™st', 'thou', 'by', 'that?', 'Mend', 'me,', 'thou', 'saucy', 'fellow!', 'COBBLER.', 'Why,', 'sir,', 'cobble', 'you.', 'FLAVIUS.', 'Thou', 'art', 'a', 'cobbler,', 'art', 'thou?', 'COBBLER.', 'Truly,', 'sir,', 'all', 'that', 'I', 'live', 'by', 'is', 'with', 'the', 'awl;', 'I', 'meddle', 'with', 'no', 'tradesmanâ€™s', 'matters,', 'nor', 'womenâ€™s', 'matters,', 'but', 'withal', 'I', 'am', 'indeed,', 'sir,', 'a', 'surgeon', 'to', 'old', 'shoes:', 'when', 'they', 'are', 'in', 'great', 'danger,', 'I', 'recover', 'them.', 'As', 'proper', 'men', 'as', 'ever', 'trod', 'upon', 'neatâ€™s', 'leather', 'have', 'gone', 'upon', 'my', 'handiwork.', 'FLAVIUS.', 'But', 'wherefore', 'art', 'not', 'in', 'thy', 'shop', 'today?', 'Why', 'dost', 'thou', 'lead', 'these', 'men', 'about', 'the', 'streets?', 'COBBLER.', 'Truly,', 'sir,', 'to', 'wear', 'out', 'their', 'shoes,', 'to', 'get', 'myself', 'into', 'more', 'work.', 'But', 'indeed,', 'sir,', 'we', 'make', 'holiday', 'to', 'see', 'Caesar,', 'and', 'to', 'rejoice', 'in', 'his', 'triumph.', 'MARULLUS.', 'Wherefore', 'rejoice?', 'What', 'conquest', 'brings', 'he', 'home?', 'What', 'tributaries', 'follow', 'him', 'to', 'Rome,', 'To', 'grace', 'in', 'captive', 'bonds', 'his', 'chariot', 'wheels?', 'You', 'blocks,', 'you', 'stones,', 'you', 'worse', 'than', 'senseless', 'things!', 'O', 'you', 'hard', 'hearts,', 'you', 'cruel', 'men', 'of', 'Rome,', 'Knew', 'you', 'not', 'Pompey?', 'Many', 'a', 'time', 'and', 'oft', 'Have', 'you', 'climbâ€™d', 'up', 'to', 'walls', 'and', 'battlements,', 'To', 'towers', 'and', 'windows,', 'yea,', 'to', 'chimney', 'tops,', 'Your', 'infants', 'in', 'your', 'arms,', 'and', 'there', 'have', 'sat', 'The', 'livelong', 'day', 'with', 'patient', 'expectation,', 'To', 'see', 'great', 'Pompey', 'pass', 'the', 'streets', 'of', 'Rome.', 'And', 'when', 'you', 'saw', 'his', 'chariot', 'but', 'appear,', 'Have', 'you', 'not', 'made', 'an', 'universal', 'shout,', 'That', 'Tiber', 'trembled', 'underneath', 'her', 'banks', 'To', 'hear', 'the', 'replication', 'of', 'your', 'sounds', 'Made', 'in', 'her', 'concave', 'shores?', 'And', 'do', 'you', 'now', 'put', 'on', 'your', 'best', 'attire?', 'And', 'do', 'you', 'now', 'cull', 'out', 'a', 'holiday?', 'And', 'do', 'you', 'now', 'strew', 'flowers', 'in', 'his', 'way,', 'That', 'comes', 'in', 'triumph', 'over', 'Pompeyâ€™s', 'blood?', 'Be', 'gone!', 'Run', 'to', 'your', 'houses,', 'fall', 'upon', 'your', 'knees,', 'Pray', 'to', 'the', 'gods', 'to', 'intermit', 'the', 'plague', 'That', 'needs', 'must', 'light', 'on', 'this', 'ingratitude.', 'FLAVIUS.', 'Go,', 'go,', 'good', 'countrymen,', 'and,', 'for', 'this', 'fault', 'Assemble', 'all', 'the', 'poor', 'men', 'of', 'your', 'sort,', 'Draw', 'them', 'to', 'Tiber', 'banks,', 'and', 'weep', 'your', 'tears', 'Into', 'the', 'channel,', 'till', 'the', 'lowest', 'stream', 'Do', 'kiss', 'the', 'most', 'exalted', 'shores', 'of', 'all.', '[_Exeunt', 'Citizens._]', 'See', 'whether', 'their', 'basest', 'metal', 'be', 'not', 'movâ€™d;', 'They', 'vanish', 'tongue-tied', 'in', 'their', 'guiltiness.', 'Go', 'you', 'down', 'that', 'way', 'towards', 'the', 'Capitol;', 'This', 'way', 'will', 'I.', 'Disrobe', 'the', 'images,', 'If', 'you', 'do', 'find', 'them', 'deckâ€™d', 'with', 'ceremonies.', 'MARULLUS.', 'May', 'we', 'do', 'so?', 'You', 'know', 'it', 'is', 'the', 'feast', 'of', 'Lupercal.', 'FLAVIUS.', 'It', 'is', 'no', 'matter;', 'let', 'no', 'images', 'Be', 'hung', 'with', 'Caesarâ€™s', 'trophies.', 'Iâ€™ll', 'about', 'And', 'drive', 'away', 'the', 'vulgar', 'from', 'the', 'streets;', 'So', 'do', 'you', 'too,', 'where', 'you', 'perceive', 'them', 'thick.', 'These', 'growing', 'feathers', 'pluckâ€™d', 'from', 'Caesarâ€™s', 'wing', 'Will', 'make', 'him', 'fly', 'an', 'ordinary', 'pitch,', 'Who', 'else', 'would', 'soar', 'above', 'the', 'view', 'of', 'men,', 'And', 'keep', 'us', 'all', 'in', 'servile', 'fearfulness.', '[_Exeunt._]', 'SCENE', 'II.', 'The', 'same.', 'A', 'public', 'place.', 'Enter,', 'in', 'procession,', 'with', 'music,', 'Caesar;', 'Antony,', 'for', 'the', 'course;', 'Calphurnia,', 'Portia,', 'Decius,', 'Cicero,', 'Brutus,', 'Cassius', 'and', 'Casca;', 'a', 'great', 'crowd', 'following,', 'among', 'them', 'a', 'Soothsayer.', 'CAESAR.', 'Calphurnia.', 'CASCA.', 'Peace,', 'ho!', 'Caesar', 'speaks.', '[_Music', 'ceases._]', 'CAESAR.', 'Calphurnia.', 'CALPHURNIA.', 'Here,', 'my', 'lord.', 'CAESAR.', 'Stand', 'you', 'directly', 'in', 'Antoniusâ€™', 'way,', 'When', 'he', 'doth', 'run', 'his', 'course.', 'Antonius.', 'ANTONY.', 'Caesar,', 'my', 'lord?', 'CAESAR.', 'Forget', 'not', 'in', 'your', 'speed,', 'Antonius,', 'To', 'touch', 'Calphurnia;', 'for', 'our', 'elders', 'say,', 'The', 'barren,', 'touched', 'in', 'this', 'holy', 'chase,', 'Shake', 'off', 'their', 'sterile', 'curse.', 'ANTONY.', 'I', 'shall', 'remember.']\n"
          ],
          "name": "stdout"
        }
      ]
    }
  ]
}